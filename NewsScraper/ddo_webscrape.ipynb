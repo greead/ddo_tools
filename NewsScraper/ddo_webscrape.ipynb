{
 "cells": [
  {
   "cell_type": "markdown",
   "metadata": {},
   "source": [
    "# Webscrape notebook for DDO news bot\n",
    "Alekzander Green\n",
    "\n",
    "This notebook provides a quick investigation into the nuances of webscraping the DDO news page in order to provide a Discord call with updates regarding new content, events, and coupon codes as they are posted to the DDO news page. Once the investigation within this notebook is complete, a bot can be used to provide updates to the server."
   ]
  },
  {
   "cell_type": "markdown",
   "metadata": {},
   "source": [
    "### Imports"
   ]
  },
  {
   "cell_type": "code",
   "execution_count": 1,
   "metadata": {},
   "outputs": [],
   "source": [
    "from selenium import webdriver\n",
    "from selenium.webdriver.chrome.options import Options"
   ]
  },
  {
   "cell_type": "markdown",
   "metadata": {},
   "source": [
    "### Setup and Constants"
   ]
  },
  {
   "cell_type": "code",
   "execution_count": 2,
   "metadata": {},
   "outputs": [],
   "source": [
    "URL = \"https://www.ddo.com/home/news\"\n",
    "\n",
    "options = Options()\n",
    "options.add_argument(\"--headless=new\")"
   ]
  },
  {
   "cell_type": "markdown",
   "metadata": {},
   "source": [
    "### Open a webdriver"
   ]
  },
  {
   "cell_type": "code",
   "execution_count": 3,
   "metadata": {},
   "outputs": [],
   "source": [
    "driver = webdriver.Chrome(options=options)"
   ]
  },
  {
   "cell_type": "markdown",
   "metadata": {},
   "source": [
    "### Follow the URL"
   ]
  },
  {
   "cell_type": "code",
   "execution_count": 4,
   "metadata": {},
   "outputs": [],
   "source": [
    "driver.get(URL)"
   ]
  },
  {
   "cell_type": "markdown",
   "metadata": {},
   "source": [
    "### Find news cards"
   ]
  },
  {
   "cell_type": "code",
   "execution_count": 5,
   "metadata": {},
   "outputs": [],
   "source": [
    "card_elements = driver.find_elements(\"class name\", \"news-link\")"
   ]
  },
  {
   "cell_type": "markdown",
   "metadata": {},
   "source": [
    "### Filter and collect card info"
   ]
  },
  {
   "cell_type": "markdown",
   "metadata": {},
   "source": [
    "Generate dictionaries"
   ]
  },
  {
   "cell_type": "code",
   "execution_count": 6,
   "metadata": {},
   "outputs": [],
   "source": [
    "cards: list[dict[str, str]] = []\n",
    "\n",
    "for card_element in card_elements:\n",
    "    card = {\n",
    "        \"link\":card_element.get_attribute(\"href\"),\n",
    "        \"title\":card_element.find_element(\"class name\", \"news-title\").text,\n",
    "        \"full_summary\":card_element.find_element(\"class name\", \"news-summary\").get_attribute(\"title\"),\n",
    "        \"short_summary\":card_element.find_element(\"class name\", \"news-summary\").text,\n",
    "        \"date\":card_element.find_element(\"class name\", \"news-date\").text.split(\" | \")[0],\n",
    "        \"coupon\":None\n",
    "    }\n",
    "\n",
    "    cards.append(card)"
   ]
  },
  {
   "cell_type": "markdown",
   "metadata": {},
   "source": [
    "Preview"
   ]
  },
  {
   "cell_type": "code",
   "execution_count": 7,
   "metadata": {},
   "outputs": [
    {
     "data": {
      "text/plain": [
       "[{'link': 'https://www.ddo.com/news/ddo-myth-drannor-release-date',\n",
       "  'title': 'Magic of Myth Drannor Release Date Information',\n",
       "  'full_summary': \"We are getting ready to release Magic of Myth Drannor and we want to share an updated release date with you today. Magic of Myth Drannor will release on Wednesday, August 14th, 2024. We currently have a loot preview happening on Lamannia, and we're planning for another preview later this month. We look forward to sharing more of our next expansion with you in the coming weeks!\",\n",
       "  'short_summary': 'We are getting ready to release Magic of Myth Drannor and we want to share an updated release date…',\n",
       "  'date': 'Thu Jul 11 2024',\n",
       "  'coupon': None},\n",
       " {'link': 'https://www.ddo.com/news/ddo-sales-071124',\n",
       "  'title': 'Sales: July 11th - 18th!',\n",
       "  'full_summary': 'Get the latest sales here!',\n",
       "  'short_summary': 'Get the latest sales here!',\n",
       "  'date': 'Thu Jul 11 2024',\n",
       "  'coupon': None},\n",
       " {'link': 'https://www.ddo.com/news/ddo-bonus-071124',\n",
       "  'title': 'DDO Bonus Days!',\n",
       "  'full_summary': 'DDO Bonus Days bring you a +30% Crafting XP Boost, now through July 14th!',\n",
       "  'short_summary': 'DDO Bonus Days bring you a +30% Crafting XP Boost, now through July 14th!',\n",
       "  'date': 'Thu Jul 11 2024',\n",
       "  'coupon': None},\n",
       " {'link': 'https://www.ddo.com/news/ddo-discord-volunteers-moderators',\n",
       "  'title': \"We're Looking for Volunteer Moderators for an Official…\",\n",
       "  'full_summary': 'We are looking forward to opening our first official Dungeons & Dragons Online Discord, and we are looking for some members of the community to volunteer to help make it a reality!',\n",
       "  'short_summary': 'We are looking forward to opening our first official Dungeons & Dragons Online Discord, and we are…',\n",
       "  'date': 'Wed Jul 10 2024',\n",
       "  'coupon': None},\n",
       " {'link': 'https://www.ddo.com/news/ddo-downtime-071024',\n",
       "  'title': 'Downtime Notice: Wednesday, July 10th 9:00 AM - 4:30 PM…',\n",
       "  'full_summary': \"UPDATE: The game worlds have reopened. Thank you for your patience during today's downtime.\\nThe DDO game worlds will be down for extended maintenance on Wednesday, July 10th from 9:00 AM - 4:30 PM Eastern (-4 GMT). Thank you for your patience, and we'll see you back in the game soon!\",\n",
       "  'short_summary': \"UPDATE: The game worlds have reopened. Thank you for your patience during today's downtime.…\",\n",
       "  'date': 'Tue Jul 09 2024',\n",
       "  'coupon': None},\n",
       " {'link': 'https://www.ddo.com/news/ddo-sales-070324',\n",
       "  'title': 'Sales: July 3rd - 11th!',\n",
       "  'full_summary': 'Get the latest sales here!',\n",
       "  'short_summary': 'Get the latest sales here!',\n",
       "  'date': 'Wed Jul 03 2024',\n",
       "  'coupon': None},\n",
       " {'link': 'https://www.ddo.com/news/ddo-bonus-070324',\n",
       "  'title': 'DDO Bonus Days!',\n",
       "  'full_summary': 'DDO Bonus Days bring you a +5% Reaper XP Boost, now through July 7th!',\n",
       "  'short_summary': 'DDO Bonus Days bring you a +5% Reaper XP Boost, now through July 7th!',\n",
       "  'date': 'Wed Jul 03 2024',\n",
       "  'coupon': None},\n",
       " {'link': 'https://www.ddo.com/news/ddo-sales-062724',\n",
       "  'title': 'Sales: June 27th - July 4th',\n",
       "  'full_summary': 'Get the latest sales here!',\n",
       "  'short_summary': 'Get the latest sales here!',\n",
       "  'date': 'Thu Jun 27 2024',\n",
       "  'coupon': None},\n",
       " {'link': 'https://www.ddo.com/news/ddo-bonus-062724',\n",
       "  'title': 'DDO Bonus Days!',\n",
       "  'full_summary': 'DDO Bonus Days bring you a +40% Challenge Rewards Boost, now through June 30th!',\n",
       "  'short_summary': 'DDO Bonus Days bring you a +40% Challenge Rewards Boost, now through June 30th!',\n",
       "  'date': 'Thu Jun 27 2024',\n",
       "  'coupon': None},\n",
       " {'link': 'https://www.ddo.com/news/ddo-year-of-the-dragon-june',\n",
       "  'title': 'Year of the Dragon - June!',\n",
       "  'full_summary': \"Read more about June's Year of the Dragon Gift, the Dragon Hatchling Creature Companion!\",\n",
       "  'short_summary': \"Read more about June's Year of the Dragon Gift, the Dragon Hatchling Creature Companion!\",\n",
       "  'date': 'Tue Jun 25 2024',\n",
       "  'coupon': None},\n",
       " {'link': 'https://www.ddo.com/news/ddo-sales-062024',\n",
       "  'title': 'Sales: June 20th - 27th',\n",
       "  'full_summary': 'Get the latest sales here!',\n",
       "  'short_summary': 'Get the latest sales here!',\n",
       "  'date': 'Thu Jun 20 2024',\n",
       "  'coupon': None},\n",
       " {'link': 'https://www.ddo.com/news/ddo-bonus-062024',\n",
       "  'title': 'DDO Bonus Days!',\n",
       "  'full_summary': 'DDO Bonus Days bring you Double Daily Dice XP, now through June 23rd!',\n",
       "  'short_summary': 'DDO Bonus Days bring you Double Daily Dice XP, now through June 23rd!',\n",
       "  'date': 'Thu Jun 20 2024',\n",
       "  'coupon': None}]"
      ]
     },
     "execution_count": 7,
     "metadata": {},
     "output_type": "execute_result"
    }
   ],
   "source": [
    "cards"
   ]
  },
  {
   "cell_type": "markdown",
   "metadata": {},
   "source": [
    "Get coupon codes"
   ]
  },
  {
   "cell_type": "code",
   "execution_count": 8,
   "metadata": {},
   "outputs": [],
   "source": [
    "for card in cards:\n",
    "    if \"sales:\" in card[\"title\"].lower():\n",
    "        driver.get(card[\"link\"])\n",
    "        \n",
    "        body = driver.find_element(\"class name\", \"article-body\")\n",
    "        sales_text_lines = body.text.splitlines()\n",
    "\n",
    "        coupon = {}\n",
    "\n",
    "        line: str\n",
    "        for i, line in enumerate(sales_text_lines):\n",
    "            l_line = line.lower().strip()\n",
    "            if \"weekly\" in l_line and \"coupon\" in l_line:\n",
    "                coupon[\"item\"] = sales_text_lines[i+1].strip()\n",
    "                coupon[\"code\"] = sales_text_lines[i+2].strip().split(\": \")[1]\n",
    "                coupon[\"exp\"] = sales_text_lines[i+3].rstrip(\"!\").lstrip(\"Now through \")\n",
    "\n",
    "        card[\"coupon\"] = coupon"
   ]
  },
  {
   "cell_type": "code",
   "execution_count": 9,
   "metadata": {},
   "outputs": [
    {
     "data": {
      "text/plain": [
       "[{'link': 'https://www.ddo.com/news/ddo-myth-drannor-release-date',\n",
       "  'title': 'Magic of Myth Drannor Release Date Information',\n",
       "  'full_summary': \"We are getting ready to release Magic of Myth Drannor and we want to share an updated release date with you today. Magic of Myth Drannor will release on Wednesday, August 14th, 2024. We currently have a loot preview happening on Lamannia, and we're planning for another preview later this month. We look forward to sharing more of our next expansion with you in the coming weeks!\",\n",
       "  'short_summary': 'We are getting ready to release Magic of Myth Drannor and we want to share an updated release date…',\n",
       "  'date': 'Thu Jul 11 2024',\n",
       "  'coupon': None},\n",
       " {'link': 'https://www.ddo.com/news/ddo-sales-071124',\n",
       "  'title': 'Sales: July 11th - 18th!',\n",
       "  'full_summary': 'Get the latest sales here!',\n",
       "  'short_summary': 'Get the latest sales here!',\n",
       "  'date': 'Thu Jul 11 2024',\n",
       "  'coupon': {'item': 'Free Potion of Rage x5',\n",
       "   'code': 'WHATWOULDGROGDO',\n",
       "   'exp': 'July 18th'}},\n",
       " {'link': 'https://www.ddo.com/news/ddo-bonus-071124',\n",
       "  'title': 'DDO Bonus Days!',\n",
       "  'full_summary': 'DDO Bonus Days bring you a +30% Crafting XP Boost, now through July 14th!',\n",
       "  'short_summary': 'DDO Bonus Days bring you a +30% Crafting XP Boost, now through July 14th!',\n",
       "  'date': 'Thu Jul 11 2024',\n",
       "  'coupon': None},\n",
       " {'link': 'https://www.ddo.com/news/ddo-discord-volunteers-moderators',\n",
       "  'title': \"We're Looking for Volunteer Moderators for an Official…\",\n",
       "  'full_summary': 'We are looking forward to opening our first official Dungeons & Dragons Online Discord, and we are looking for some members of the community to volunteer to help make it a reality!',\n",
       "  'short_summary': 'We are looking forward to opening our first official Dungeons & Dragons Online Discord, and we are…',\n",
       "  'date': 'Wed Jul 10 2024',\n",
       "  'coupon': None},\n",
       " {'link': 'https://www.ddo.com/news/ddo-downtime-071024',\n",
       "  'title': 'Downtime Notice: Wednesday, July 10th 9:00 AM - 4:30 PM…',\n",
       "  'full_summary': \"UPDATE: The game worlds have reopened. Thank you for your patience during today's downtime.\\nThe DDO game worlds will be down for extended maintenance on Wednesday, July 10th from 9:00 AM - 4:30 PM Eastern (-4 GMT). Thank you for your patience, and we'll see you back in the game soon!\",\n",
       "  'short_summary': \"UPDATE: The game worlds have reopened. Thank you for your patience during today's downtime.…\",\n",
       "  'date': 'Tue Jul 09 2024',\n",
       "  'coupon': None},\n",
       " {'link': 'https://www.ddo.com/news/ddo-sales-070324',\n",
       "  'title': 'Sales: July 3rd - 11th!',\n",
       "  'full_summary': 'Get the latest sales here!',\n",
       "  'short_summary': 'Get the latest sales here!',\n",
       "  'date': 'Wed Jul 03 2024',\n",
       "  'coupon': {'item': 'Free Medium Guild Renown Elixir',\n",
       "   'code': 'PRESTIGE',\n",
       "   'exp': 'July 11th'}},\n",
       " {'link': 'https://www.ddo.com/news/ddo-bonus-070324',\n",
       "  'title': 'DDO Bonus Days!',\n",
       "  'full_summary': 'DDO Bonus Days bring you a +5% Reaper XP Boost, now through July 7th!',\n",
       "  'short_summary': 'DDO Bonus Days bring you a +5% Reaper XP Boost, now through July 7th!',\n",
       "  'date': 'Wed Jul 03 2024',\n",
       "  'coupon': None},\n",
       " {'link': 'https://www.ddo.com/news/ddo-sales-062724',\n",
       "  'title': 'Sales: June 27th - July 4th',\n",
       "  'full_summary': 'Get the latest sales here!',\n",
       "  'short_summary': 'Get the latest sales here!',\n",
       "  'date': 'Thu Jun 27 2024',\n",
       "  'coupon': {'item': 'Free Sun Flasks x25',\n",
       "   'code': 'HAVEABLAST',\n",
       "   'exp': 'July 4th'}},\n",
       " {'link': 'https://www.ddo.com/news/ddo-bonus-062724',\n",
       "  'title': 'DDO Bonus Days!',\n",
       "  'full_summary': 'DDO Bonus Days bring you a +40% Challenge Rewards Boost, now through June 30th!',\n",
       "  'short_summary': 'DDO Bonus Days bring you a +40% Challenge Rewards Boost, now through June 30th!',\n",
       "  'date': 'Thu Jun 27 2024',\n",
       "  'coupon': None},\n",
       " {'link': 'https://www.ddo.com/news/ddo-year-of-the-dragon-june',\n",
       "  'title': 'Year of the Dragon - June!',\n",
       "  'full_summary': \"Read more about June's Year of the Dragon Gift, the Dragon Hatchling Creature Companion!\",\n",
       "  'short_summary': \"Read more about June's Year of the Dragon Gift, the Dragon Hatchling Creature Companion!\",\n",
       "  'date': 'Tue Jun 25 2024',\n",
       "  'coupon': None},\n",
       " {'link': 'https://www.ddo.com/news/ddo-sales-062024',\n",
       "  'title': 'Sales: June 20th - 27th',\n",
       "  'full_summary': 'Get the latest sales here!',\n",
       "  'short_summary': 'Get the latest sales here!',\n",
       "  'date': 'Thu Jun 20 2024',\n",
       "  'coupon': {'item': 'Free Secret Door Divining Rod',\n",
       "   'code': 'SEEKRETS',\n",
       "   'exp': 'June 27th'}},\n",
       " {'link': 'https://www.ddo.com/news/ddo-bonus-062024',\n",
       "  'title': 'DDO Bonus Days!',\n",
       "  'full_summary': 'DDO Bonus Days bring you Double Daily Dice XP, now through June 23rd!',\n",
       "  'short_summary': 'DDO Bonus Days bring you Double Daily Dice XP, now through June 23rd!',\n",
       "  'date': 'Thu Jun 20 2024',\n",
       "  'coupon': None}]"
      ]
     },
     "execution_count": 9,
     "metadata": {},
     "output_type": "execute_result"
    }
   ],
   "source": [
    "cards"
   ]
  },
  {
   "cell_type": "code",
   "execution_count": null,
   "metadata": {},
   "outputs": [],
   "source": []
  }
 ],
 "metadata": {
  "kernelspec": {
   "display_name": "Python 3",
   "language": "python",
   "name": "python3"
  },
  "language_info": {
   "codemirror_mode": {
    "name": "ipython",
    "version": 3
   },
   "file_extension": ".py",
   "mimetype": "text/x-python",
   "name": "python",
   "nbconvert_exporter": "python",
   "pygments_lexer": "ipython3",
   "version": "3.11.4"
  }
 },
 "nbformat": 4,
 "nbformat_minor": 2
}
